{
 "cells": [
  {
   "cell_type": "markdown",
   "metadata": {
    "id": "R3EqSOCRy3et"
   },
   "source": [
    "### 7\n",
    "\n",
    "Допустим, в некоторой популяции поддерживаются частоты аллелей в локусах A и B: \n",
    "  $p_A=0.6, q_a=0.4;$\n",
    "  $p_B=0.6, q_b =0.4;$\n",
    "При этом гаплотипы, несущие эти аллели, встречаются со следующими частотам:\n",
    "\n",
    "$P_{AB}=0.45;$\n",
    "$P_{ab}=0.25;$\n",
    "$P_{Ab}=0.15;$\n",
    "$p_{aB}=0.15.$\n",
    "Рассчитайте значение $r^2$ для локусов A и B. Округлите ответ до сотых. При расчёте пользуйтесь обобщенной формулой для $D$, которая учитывает частоты всех гаплотипов."
   ]
  },
  {
   "cell_type": "code",
   "execution_count": 2,
   "metadata": {
    "id": "yxBPiW79y3ew"
   },
   "outputs": [],
   "source": [
    "import pandas as pd\n",
    "import numpy as np\n",
    "import dnds as dn"
   ]
  },
  {
   "cell_type": "markdown",
   "source": [
    "Решение:\n"
   ],
   "metadata": {
    "collapsed": false
   }
  },
  {
   "cell_type": "code",
   "outputs": [
    {
     "name": "stdout",
     "output_type": "stream",
     "text": [
      "0.140625\n"
     ]
    }
   ],
   "source": [
    "pA=0.6\n",
    "qa=0.4\n",
    "pB=0.6\n",
    "qb=0.4\n",
    "\n",
    "PAB=0.45\n",
    "Pab=0.25\n",
    "PAb=0.15\n",
    "PaB=0.15\n",
    "D=PAB*Pab-PAb*PaB\n",
    "zn=pA*pB*qa*qb\n",
    "rsq = D**2/zn\n",
    "print(rsq)"
   ],
   "metadata": {
    "collapsed": false
   },
   "execution_count": 3
  },
  {
   "cell_type": "markdown",
   "source": [
    "answer: 0.14"
   ],
   "metadata": {
    "collapsed": false
   }
  }
 ],
 "metadata": {
  "colab": {
   "collapsed_sections": [],
   "name": "[seminar, prodv]ml_basics.ipynb",
   "provenance": []
  },
  "hide_input": false,
  "kernelspec": {
   "display_name": "Python 3",
   "language": "python",
   "name": "python3"
  },
  "language_info": {
   "codemirror_mode": {
    "name": "ipython",
    "version": 3
   },
   "file_extension": ".py",
   "mimetype": "text/x-python",
   "name": "python",
   "nbconvert_exporter": "python",
   "pygments_lexer": "ipython3",
   "version": "3.10.2"
  },
  "varInspector": {
   "cols": {
    "lenName": 16,
    "lenType": 16,
    "lenVar": 40
   },
   "kernels_config": {
    "python": {
     "delete_cmd_postfix": "",
     "delete_cmd_prefix": "del ",
     "library": "var_list.py",
     "varRefreshCmd": "print(var_dic_list())"
    },
    "r": {
     "delete_cmd_postfix": ") ",
     "delete_cmd_prefix": "rm(",
     "library": "var_list.r",
     "varRefreshCmd": "cat(var_dic_list()) "
    }
   },
   "types_to_exclude": [
    "module",
    "function",
    "builtin_function_or_method",
    "instance",
    "_Feature"
   ],
   "window_display": false
  }
 },
 "nbformat": 4,
 "nbformat_minor": 1
}
