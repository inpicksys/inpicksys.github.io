{
 "cells": [
  {
   "cell_type": "markdown",
   "metadata": {
    "id": "R3EqSOCRy3et"
   },
   "source": [
    "\n",
    "Допустим, мы изучаем некоторого человека из популяции, который содержит в своем генотипе некоторые доли 5 различных предковых популяций. Эти предковые популяции вносят в генотип индивида относительный вклад $f_k$. Обозначим частоту рецессивной аллели (a) интересующего нас локуса в каждой из популяций как $q_i,k$. \n",
    "\n",
    "Если частоты аллелей и вклад предковых популяций в изучаемого индивида таковы:\n",
    "\n",
    "![][image_ref_xht946ee]\n",
    "\n",
    "[image_ref_xht946ee]: data:image/png;base64,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\n",
    "то какова вероятность, что изучаемый индивид будет иметь генотип *Aa*? Округлите ответ до сотых."
   ]
  },
  {
   "cell_type": "markdown",
   "source": [],
   "metadata": {
    "collapsed": false
   }
  },
  {
   "cell_type": "code",
   "execution_count": 10,
   "metadata": {
    "id": "yxBPiW79y3ew"
   },
   "outputs": [],
   "source": [
    "import pandas as pd\n",
    "import numpy as np\n",
    "from matplotlib import pyplot as plt"
   ]
  },
  {
   "cell_type": "code",
   "execution_count": 5,
   "metadata": {
    "id": "oTzHxNFcy3e1",
    "outputId": "adffe915-598e-4996-8426-1a5f8123805d"
   },
   "outputs": [],
   "source": [
    "n = 5\n",
    "q = [0, 0.25, 0.4, 0.1, 0.6]\n",
    "f = [0.6, 0.1, 0.1, 0.1, 0.1]\n"
   ]
  },
  {
   "cell_type": "code",
   "execution_count": 9,
   "metadata": {},
   "outputs": [
    {
     "name": "stdout",
     "output_type": "stream",
     "text": [
      "res= 0.23354999999999987\n"
     ]
    }
   ],
   "source": [
    "qs = 0\n",
    "for i in range(n):\n",
    "    qs+=q[i]*f[i]\n",
    "qs = qs**2    \n",
    "\n",
    "ps = 0\n",
    "for i in range(n):\n",
    "    ps+=(1-q[i])*(f[i])\n",
    "ps = ps**2    \n",
    "\n",
    "print(\"res=\", 1-ps-qs)\n"
   ]
  }
 ],
 "metadata": {
  "colab": {
   "collapsed_sections": [],
   "name": "[seminar, prodv]ml_basics.ipynb",
   "provenance": []
  },
  "hide_input": false,
  "kernelspec": {
   "display_name": "Python 3",
   "language": "python",
   "name": "python3"
  },
  "language_info": {
   "codemirror_mode": {
    "name": "ipython",
    "version": 3
   },
   "file_extension": ".py",
   "mimetype": "text/x-python",
   "name": "python",
   "nbconvert_exporter": "python",
   "pygments_lexer": "ipython3",
   "version": "3.10.1"
  },
  "varInspector": {
   "cols": {
    "lenName": 16,
    "lenType": 16,
    "lenVar": 40
   },
   "kernels_config": {
    "python": {
     "delete_cmd_postfix": "",
     "delete_cmd_prefix": "del ",
     "library": "var_list.py",
     "varRefreshCmd": "print(var_dic_list())"
    },
    "r": {
     "delete_cmd_postfix": ") ",
     "delete_cmd_prefix": "rm(",
     "library": "var_list.r",
     "varRefreshCmd": "cat(var_dic_list()) "
    }
   },
   "types_to_exclude": [
    "module",
    "function",
    "builtin_function_or_method",
    "instance",
    "_Feature"
   ],
   "window_display": false
  }
 },
 "nbformat": 4,
 "nbformat_minor": 1
}
