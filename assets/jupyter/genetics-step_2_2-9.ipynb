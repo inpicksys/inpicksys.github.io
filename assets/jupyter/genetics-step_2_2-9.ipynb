{
 "cells": [
  {
   "cell_type": "markdown",
   "metadata": {
    "id": "R3EqSOCRy3et"
   },
   "source": [
    "### 9\n",
    "\n",
    "Допустим, Вы исследовали некоторую выборку из 8 аллелей из популяции, и первое событие коалесценции произошло 25 поколений назад. Какова вероятность этого события ($P(t_8 = 25)$), если популяция диплоидна и $N_e=1000$?\n",
    "\n",
    "Округлите ответ до тысячных."
   ]
  },
  {
   "cell_type": "code",
   "execution_count": 55,
   "metadata": {
    "id": "yxBPiW79y3ew"
   },
   "outputs": [],
   "source": [
    "import pandas as pd\n",
    "import numpy as np\n",
    "from matplotlib import pyplot as plt"
   ]
  },
  {
   "cell_type": "code",
   "execution_count": 1,
   "metadata": {
    "id": "oTzHxNFcy3e1",
    "outputId": "adffe915-598e-4996-8426-1a5f8123805d"
   },
   "outputs": [
    {
     "name": "stdout",
     "output_type": "stream",
     "text": [
      "0.009980998590710544\n"
     ]
    }
   ],
   "source": [
    "from math import factorial\n",
    "def C(n, m):\n",
    "    return (factorial (n)) / ((factorial (m)) * (factorial (n-m)))\n",
    "\n",
    "N = 1000\n",
    "x = 25\n",
    "k = 8\n",
    "p = (1-(C(k,2))/(2*N))**(x-1)*((C(k,2))/(2*N))\n",
    "print(p)"
   ]
  }
 ],
 "metadata": {
  "colab": {
   "collapsed_sections": [],
   "name": "[seminar, prodv]ml_basics.ipynb",
   "provenance": []
  },
  "hide_input": false,
  "kernelspec": {
   "display_name": "Python 3",
   "language": "python",
   "name": "python3"
  },
  "language_info": {
   "codemirror_mode": {
    "name": "ipython",
    "version": 3
   },
   "file_extension": ".py",
   "mimetype": "text/x-python",
   "name": "python",
   "nbconvert_exporter": "python",
   "pygments_lexer": "ipython3",
   "version": "3.9.7"
  },
  "varInspector": {
   "cols": {
    "lenName": 16,
    "lenType": 16,
    "lenVar": 40
   },
   "kernels_config": {
    "python": {
     "delete_cmd_postfix": "",
     "delete_cmd_prefix": "del ",
     "library": "var_list.py",
     "varRefreshCmd": "print(var_dic_list())"
    },
    "r": {
     "delete_cmd_postfix": ") ",
     "delete_cmd_prefix": "rm(",
     "library": "var_list.r",
     "varRefreshCmd": "cat(var_dic_list()) "
    }
   },
   "types_to_exclude": [
    "module",
    "function",
    "builtin_function_or_method",
    "instance",
    "_Feature"
   ],
   "window_display": false
  }
 },
 "nbformat": 4,
 "nbformat_minor": 1
}
