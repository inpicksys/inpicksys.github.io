{
 "cells": [
  {
   "cell_type": "markdown",
   "metadata": {
    "id": "R3EqSOCRy3et"
   },
   "source": [
    "### 8\n",
    "\n",
    "Допустим, вы исследовали фрагмент последовательности белок-кодирующего гена X у представителей двух эволюционных групп. Результаты попарного выравнивания приведены на рисунке:\n",
    "\n",
    "<img width=\"300px\" src=\"https://ucarecdn.com/c6164f07-438e-42f9-9581-963e2a8f5061/\"/>\n",
    "\n",
    "Рассчитайте значение dN/dSdN/dS, руководствуясь соображениями, изложенными в предыдущем фрагменте, и моделью Джукса-Кантора (JC). Округлите ответ до сотых.\n",
    "\n",
    "Внимание! Логика расчета, описанная в видео на предыдущем шаге, предполагает, что одна из последовательностей принимается за референсную, относительно которой рассчитывается число возможных замен (то есть, число синонимичных и несинонимичных сайтов). В рамках расчетов в этой задаче используйте в качестве референса первую (верхнюю) последовательность."
   ]
  },
  {
   "cell_type": "code",
   "execution_count": 11,
   "metadata": {
    "id": "yxBPiW79y3ew"
   },
   "outputs": [],
   "source": [
    "import pandas as pd\n",
    "import numpy as np\n",
    "import dnds as dn"
   ]
  },
  {
   "cell_type": "code",
   "execution_count": 9,
   "metadata": {
    "id": "oTzHxNFcy3e1",
    "outputId": "adffe915-598e-4996-8426-1a5f8123805d"
   },
   "outputs": [],
   "source": [
    "gcode = { \n",
    "    'ATA':'I', 'ATC':'I', 'ATT':'I', 'ATG':'M', \n",
    "    'ACA':'T', 'ACC':'T', 'ACG':'T', 'ACT':'T', \n",
    "    'AAC':'N', 'AAT':'N', 'AAA':'K', 'AAG':'K', \n",
    "    'AGC':'S', 'AGT':'S', 'AGA':'R', 'AGG':'R',\n",
    "    'CTA':'L', 'CTC':'L', 'CTG':'L', 'CTT':'L', \n",
    "    'CCA':'P', 'CCC':'P', 'CCG':'P', 'CCT':'P', \n",
    "    'CAC':'H', 'CAT':'H', 'CAA':'Q', 'CAG':'Q', \n",
    "    'CGA':'R', 'CGC':'R', 'CGG':'R', 'CGT':'R', \n",
    "    'GTA':'V', 'GTC':'V', 'GTG':'V', 'GTT':'V', \n",
    "    'GCA':'A', 'GCC':'A', 'GCG':'A', 'GCT':'A', \n",
    "    'GAC':'D', 'GAT':'D', 'GAA':'E', 'GAG':'E', \n",
    "    'GGA':'G', 'GGC':'G', 'GGG':'G', 'GGT':'G', \n",
    "    'TCA':'S', 'TCC':'S', 'TCG':'S', 'TCT':'S', \n",
    "    'TTC':'F', 'TTT':'F', 'TTA':'L', 'TTG':'L', \n",
    "    'TAC':'Y', 'TAT':'Y', 'TAA':'*', 'TAG':'*', \n",
    "    'TGC':'C', 'TGT':'C', 'TGA':'*', 'TGG':'W'\n",
    "}\n",
    "\n",
    "seq1 = ['ATT','AGT','CGT','TCA','TCC']\n",
    "seq2 = ['ATT','AGA','CGT','TCC','TCC']\n",
    "sequence1= 'ATTAGTCGTTCATCC'\n",
    "sequence2= 'ATTAGACGTTCCTCC'"
   ]
  },
  {
   "cell_type": "code",
   "execution_count": 30,
   "metadata": {},
   "outputs": [
    {
     "name": "stdout",
     "output_type": "stream",
     "text": [
      "4.676470588235294\n"
     ]
    },
    {
     "data": {
      "text/plain": [
       "'a'"
      ]
     },
     "execution_count": 30,
     "metadata": {},
     "output_type": "execute_result"
    }
   ],
   "source": [
    "diff = 0.00795\n",
    "se = 0.00170\n",
    "z=diff/se\n",
    "r=z\n",
    "print(r)\n",
    "words = [\"sofa\", \"suitcase\", \"valise\", \"picture\", \"basket\", \"carton\", \"doggie\"]\n",
    "list(map(lambda w: sorted(w)[0], words))[5]"
   ]
  },
  {
   "cell_type": "code",
   "execution_count": 13,
   "metadata": {},
   "outputs": [
    {
     "name": "stdout",
     "output_type": "stream",
     "text": [
      "0.34054648454412384\n"
     ]
    }
   ],
   "source": [
    "res = dn.dnds(sequence1, sequence2)\n",
    "print(res)"
   ]
  }
 ],
 "metadata": {
  "colab": {
   "collapsed_sections": [],
   "name": "[seminar, prodv]ml_basics.ipynb",
   "provenance": []
  },
  "hide_input": false,
  "kernelspec": {
   "display_name": "Python 3",
   "language": "python",
   "name": "python3"
  },
  "language_info": {
   "codemirror_mode": {
    "name": "ipython",
    "version": 3
   },
   "file_extension": ".py",
   "mimetype": "text/x-python",
   "name": "python",
   "nbconvert_exporter": "python",
   "pygments_lexer": "ipython3",
   "version": "3.10.2"
  },
  "varInspector": {
   "cols": {
    "lenName": 16,
    "lenType": 16,
    "lenVar": 40
   },
   "kernels_config": {
    "python": {
     "delete_cmd_postfix": "",
     "delete_cmd_prefix": "del ",
     "library": "var_list.py",
     "varRefreshCmd": "print(var_dic_list())"
    },
    "r": {
     "delete_cmd_postfix": ") ",
     "delete_cmd_prefix": "rm(",
     "library": "var_list.r",
     "varRefreshCmd": "cat(var_dic_list()) "
    }
   },
   "types_to_exclude": [
    "module",
    "function",
    "builtin_function_or_method",
    "instance",
    "_Feature"
   ],
   "window_display": false
  }
 },
 "nbformat": 4,
 "nbformat_minor": 1
}
