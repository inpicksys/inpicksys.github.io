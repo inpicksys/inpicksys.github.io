{
 "cells": [
  {
   "cell_type": "markdown",
   "metadata": {
    "id": "R3EqSOCRy3et"
   },
   "source": [
    "\n",
    "Допустим, Вы изучили частоты аллелей в 10 локусах в трех популяциях (AA, BB, CC). Результаты исследования приведены ниже:\n",
    "<img height=\"185\" src=\"https://ucarecdn.com/77150a23-da6c-4970-9d94-66fef76313ee/\" width=\"564\"/>\n",
    "Рассчитайте значение D(seq1,seq2,seq3,seq4). Округлите ответ до сотых."
   ]
  },
  {
   "cell_type": "code",
   "execution_count": 2,
   "metadata": {
    "id": "yxBPiW79y3ew"
   },
   "outputs": [],
   "source": [
    "import pandas as pd\n",
    "import numpy as np\n",
    "from matplotlib import pyplot as plt"
   ]
  },
  {
   "cell_type": "code",
   "execution_count": 8,
   "metadata": {
    "id": "oTzHxNFcy3e1",
    "outputId": "adffe915-598e-4996-8426-1a5f8123805d"
   },
   "outputs": [],
   "source": [
    "n = 18\n",
    "seq1 = ['A', 'T', 'G', 'C', 'T', 'G', 'A', 'C', 'C', 'A', 'G', 'G', 'A', 'C', 'C', 'T', 'G', 'A']\n",
    "seq2 = ['A', 'T', 'G', 'C', 'A', 'G', 'G', 'C', 'C', 'T', 'G', 'G', 'A', 'A', 'C', 'T', 'G', 'A']\n",
    "seq3 = ['A', 'T', 'G', 'C', 'T', 'G', 'G', 'C', 'G', 'A', 'G', 'G', 'A', 'A', 'C', 'T', 'G', 'A']\n",
    "seq4 = ['A', 'T', 'G', 'C', 'A', 'G', 'A', 'C', 'C', 'T', 'G', 'G', 'A', 'C', 'C', 'T', 'G', 'A']"
   ]
  },
  {
   "cell_type": "code",
   "outputs": [],
   "source": [],
   "metadata": {
    "collapsed": false
   }
  },
  {
   "cell_type": "markdown",
   "metadata": {},
   "source": [
    "$D=\\frac{N_{ABBA}-N_{BABA}}{N_{ABBA}+N_{BABA}}$\n"
   ]
  },
  {
   "cell_type": "code",
   "execution_count": 10,
   "metadata": {},
   "outputs": [
    {
     "name": "stdout",
     "output_type": "stream",
     "text": [
      "abba= 2\n",
      "baba= 2\n",
      "Ответ: 0.0\n"
     ]
    }
   ],
   "source": [
    "abba = 0\n",
    "baba = 0\n",
    "for i in range(n):\n",
    "    if seq3[i]!=seq4[i]:\n",
    "        if seq1[i]==seq4[i] and seq2[i]==seq3[i]:\n",
    "            abba+=1\n",
    "        if seq1[i]==seq3[i] and seq2[i]==seq4[i]:\n",
    "            baba+=1\n",
    "print(\"abba=\", abba)\n",
    "print(\"baba=\", abba)\n",
    "D = (abba-baba)/(abba+baba)\n",
    "print(\"Ответ:\", D)"
   ]
  }
 ],
 "metadata": {
  "colab": {
   "collapsed_sections": [],
   "name": "[seminar, prodv]ml_basics.ipynb",
   "provenance": []
  },
  "hide_input": false,
  "kernelspec": {
   "display_name": "Python 3",
   "language": "python",
   "name": "python3"
  },
  "language_info": {
   "codemirror_mode": {
    "name": "ipython",
    "version": 3
   },
   "file_extension": ".py",
   "mimetype": "text/x-python",
   "name": "python",
   "nbconvert_exporter": "python",
   "pygments_lexer": "ipython3",
   "version": "3.9.7"
  },
  "varInspector": {
   "cols": {
    "lenName": 16,
    "lenType": 16,
    "lenVar": 40
   },
   "kernels_config": {
    "python": {
     "delete_cmd_postfix": "",
     "delete_cmd_prefix": "del ",
     "library": "var_list.py",
     "varRefreshCmd": "print(var_dic_list())"
    },
    "r": {
     "delete_cmd_postfix": ") ",
     "delete_cmd_prefix": "rm(",
     "library": "var_list.r",
     "varRefreshCmd": "cat(var_dic_list()) "
    }
   },
   "types_to_exclude": [
    "module",
    "function",
    "builtin_function_or_method",
    "instance",
    "_Feature"
   ],
   "window_display": false
  }
 },
 "nbformat": 4,
 "nbformat_minor": 1
}
