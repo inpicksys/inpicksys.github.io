{
 "cells": [
  {
   "cell_type": "markdown",
   "metadata": {
    "id": "R3EqSOCRy3et"
   },
   "source": [
    "### 9\n",
    "\n",
    "Задание для получения сертификата с отличием\n",
    "\n",
    "Помимо самого по себе соотношения $\\frac{dN}{dS}$, часто можно встретить значение $Z=\\frac{dN - dS}{\\sqrt{Var(dN-dS)}}$, где Var(dN-dS)Var(dN−dS) оценивается из данных с использованием выборок по принципу Jackknife. Интерпретируется это значение аналогично dN/dS, но нейтральная эволюция соответствует Z = 0, а не dN/dS = 1.\n",
    "\n",
    "Допустим, Вы проанализировали большое количество последовательностей одного белок-кодирующего гена у представителей некоторого вида. Результат множественного выравнивания последовательностей представлен в файле sequences_to_dNdS.fa.\n",
    "\n",
    "Используя графический интерфейс MEGAX (или другой инструмент по вашему выбору) рассчитайте значение Z(dN−dS) для этого гена. Находится ли ген под действием отбора? Если да, то в каком направлении действует отбор?\n",
    "\n",
    "Приведите в ответе значение статистики Z(dN-dS), округленное до сотых, и ответ на вопрос о давлении отбора (один вариант из трех: \"нет\", \"да,положительный\" или \"да,отрицательный\"). Используйте при расчете большое количество повторений bootstrap (1,000 и более). Пользуйтесь рассмотренным нами в видео методом - \"Nei-Gojobori (Jukes-Cantor)\""
   ]
  },
  {
   "cell_type": "code",
   "execution_count": 11,
   "metadata": {
    "id": "yxBPiW79y3ew"
   },
   "outputs": [],
   "source": [
    "import pandas as pd\n",
    "import numpy as np\n",
    "import dnds as dn"
   ]
  },
  {
   "cell_type": "markdown",
   "metadata": {},
   "source": [
    "Решение:\n",
    "1. Используем и запускаем MegaX.\n",
    "2. Открываем файл - Data-> open File/Session -> Align Data\n",
    "3. Сохраняем файл - с расширением .mas\n",
    "4. Открываем его\n",
    "5. Distanse -> Compute Overall Mean Distance\n",
    "6. Выбираем: - Bootstrap Replications: 1000\n",
    "             - Substitutions Types: Syn-Nonsynonymous\n",
    "             - Model/Method: Nei-Gojobor (Jukes-Cantor)\n",
    "             - Substitutions to include: Deffirence (n-s)\n",
    "             - Gaps/Missing Data Treatment: Pairwise deletion\n",
    "7. ok - ждем результат\n",
    "8. Ниже  расчёт по формуле и результат\n"
   ]
  },
  {
   "cell_type": "code",
   "execution_count": 1,
   "metadata": {},
   "outputs": [
    {
     "name": "stdout",
     "output_type": "stream",
     "text": [
      "-3.847222222222222\n"
     ]
    }
   ],
   "source": [
    "dnds = -0.00831\n",
    "se = 0.00216\n",
    "z=dnds/se\n",
    "print(z)"
   ]
  },
  {
   "cell_type": "markdown",
   "metadata": {},
   "source": []
  }
 ],
 "metadata": {
  "colab": {
   "collapsed_sections": [],
   "name": "[seminar, prodv]ml_basics.ipynb",
   "provenance": []
  },
  "hide_input": false,
  "kernelspec": {
   "display_name": "Python 3",
   "language": "python",
   "name": "python3"
  },
  "language_info": {
   "codemirror_mode": {
    "name": "ipython",
    "version": 3
   },
   "file_extension": ".py",
   "mimetype": "text/x-python",
   "name": "python",
   "nbconvert_exporter": "python",
   "pygments_lexer": "ipython3",
   "version": "3.10.2"
  },
  "varInspector": {
   "cols": {
    "lenName": 16,
    "lenType": 16,
    "lenVar": 40
   },
   "kernels_config": {
    "python": {
     "delete_cmd_postfix": "",
     "delete_cmd_prefix": "del ",
     "library": "var_list.py",
     "varRefreshCmd": "print(var_dic_list())"
    },
    "r": {
     "delete_cmd_postfix": ") ",
     "delete_cmd_prefix": "rm(",
     "library": "var_list.r",
     "varRefreshCmd": "cat(var_dic_list()) "
    }
   },
   "types_to_exclude": [
    "module",
    "function",
    "builtin_function_or_method",
    "instance",
    "_Feature"
   ],
   "window_display": false
  }
 },
 "nbformat": 4,
 "nbformat_minor": 1
}
